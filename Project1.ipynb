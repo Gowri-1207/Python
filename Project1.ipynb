{
 "cells": [
  {
   "cell_type": "code",
   "execution_count": 25,
   "id": "bd8e60ad-0f0c-4e69-a692-569dccdde322",
   "metadata": {},
   "outputs": [],
   "source": [
    "import pandas as pd\n",
    "import numpy as np\n",
    "import seaborn as sns\n",
    "import matplotlib.pyplot as plt\n",
    "\n",
    "from sklearn.model_selection import train_test_split\n",
    "from sklearn.preprocessing import StandardScaler\n",
    "from sklearn.linear_model import LogisticRegression\n",
    "from sklearn.ensemble import RandomForestClassifier\n",
    "from sklearn.metrics import classification_report, confusion_matrix, accuracy_score"
   ]
  },
  {
   "cell_type": "code",
   "execution_count": 26,
   "id": "e380bc0d-7682-4970-aced-966520a81a2f",
   "metadata": {},
   "outputs": [
    {
     "data": {
      "text/html": [
       "<div>\n",
       "<style scoped>\n",
       "    .dataframe tbody tr th:only-of-type {\n",
       "        vertical-align: middle;\n",
       "    }\n",
       "\n",
       "    .dataframe tbody tr th {\n",
       "        vertical-align: top;\n",
       "    }\n",
       "\n",
       "    .dataframe thead th {\n",
       "        text-align: right;\n",
       "    }\n",
       "</style>\n",
       "<table border=\"1\" class=\"dataframe\">\n",
       "  <thead>\n",
       "    <tr style=\"text-align: right;\">\n",
       "      <th></th>\n",
       "      <th>precipitation</th>\n",
       "      <th>temp_max</th>\n",
       "      <th>temp_min</th>\n",
       "      <th>wind</th>\n",
       "    </tr>\n",
       "  </thead>\n",
       "  <tbody>\n",
       "    <tr>\n",
       "      <th>0</th>\n",
       "      <td>2.3</td>\n",
       "      <td>31.7</td>\n",
       "      <td>24.9</td>\n",
       "      <td>13.9</td>\n",
       "    </tr>\n",
       "    <tr>\n",
       "      <th>1</th>\n",
       "      <td>15.1</td>\n",
       "      <td>39.4</td>\n",
       "      <td>20.2</td>\n",
       "      <td>NaN</td>\n",
       "    </tr>\n",
       "    <tr>\n",
       "      <th>2</th>\n",
       "      <td>6.6</td>\n",
       "      <td>NaN</td>\n",
       "      <td>25.0</td>\n",
       "      <td>10.1</td>\n",
       "    </tr>\n",
       "    <tr>\n",
       "      <th>3</th>\n",
       "      <td>NaN</td>\n",
       "      <td>27.1</td>\n",
       "      <td>26.1</td>\n",
       "      <td>7.7</td>\n",
       "    </tr>\n",
       "    <tr>\n",
       "      <th>4</th>\n",
       "      <td>0.8</td>\n",
       "      <td>25.5</td>\n",
       "      <td>24.5</td>\n",
       "      <td>11.4</td>\n",
       "    </tr>\n",
       "    <tr>\n",
       "      <th>...</th>\n",
       "      <td>...</td>\n",
       "      <td>...</td>\n",
       "      <td>...</td>\n",
       "      <td>...</td>\n",
       "    </tr>\n",
       "    <tr>\n",
       "      <th>995</th>\n",
       "      <td>29.8</td>\n",
       "      <td>35.8</td>\n",
       "      <td>13.2</td>\n",
       "      <td>12.6</td>\n",
       "    </tr>\n",
       "    <tr>\n",
       "      <th>996</th>\n",
       "      <td>2.9</td>\n",
       "      <td>25.8</td>\n",
       "      <td>19.8</td>\n",
       "      <td>12.8</td>\n",
       "    </tr>\n",
       "    <tr>\n",
       "      <th>997</th>\n",
       "      <td>23.2</td>\n",
       "      <td>NaN</td>\n",
       "      <td>20.1</td>\n",
       "      <td>7.9</td>\n",
       "    </tr>\n",
       "    <tr>\n",
       "      <th>998</th>\n",
       "      <td>5.5</td>\n",
       "      <td>24.9</td>\n",
       "      <td>NaN</td>\n",
       "      <td>12.9</td>\n",
       "    </tr>\n",
       "    <tr>\n",
       "      <th>999</th>\n",
       "      <td>NaN</td>\n",
       "      <td>25.9</td>\n",
       "      <td>24.9</td>\n",
       "      <td>11.3</td>\n",
       "    </tr>\n",
       "  </tbody>\n",
       "</table>\n",
       "<p>1000 rows × 4 columns</p>\n",
       "</div>"
      ],
      "text/plain": [
       "     precipitation  temp_max  temp_min  wind\n",
       "0              2.3      31.7      24.9  13.9\n",
       "1             15.1      39.4      20.2   NaN\n",
       "2              6.6       NaN      25.0  10.1\n",
       "3              NaN      27.1      26.1   7.7\n",
       "4              0.8      25.5      24.5  11.4\n",
       "..             ...       ...       ...   ...\n",
       "995           29.8      35.8      13.2  12.6\n",
       "996            2.9      25.8      19.8  12.8\n",
       "997           23.2       NaN      20.1   7.9\n",
       "998            5.5      24.9       NaN  12.9\n",
       "999            NaN      25.9      24.9  11.3\n",
       "\n",
       "[1000 rows x 4 columns]"
      ]
     },
     "execution_count": 26,
     "metadata": {},
     "output_type": "execute_result"
    }
   ],
   "source": [
    "data=pd.read_csv(r\"C:/Users/jgowr/Documents/Python/dataprjct.csv\")\n",
    "data"
   ]
  },
  {
   "cell_type": "code",
   "execution_count": 27,
   "id": "0a77d918-cf20-4184-bb9e-fc5e1729270a",
   "metadata": {},
   "outputs": [
    {
     "name": "stdout",
     "output_type": "stream",
     "text": [
      "     precipitation  temp_max  temp_min   wind\n",
      "0            False     False     False  False\n",
      "1            False     False     False   True\n",
      "2            False      True     False  False\n",
      "3             True     False     False  False\n",
      "4            False     False     False  False\n",
      "..             ...       ...       ...    ...\n",
      "995          False     False     False  False\n",
      "996          False     False     False  False\n",
      "997          False      True     False  False\n",
      "998          False     False      True  False\n",
      "999           True     False     False  False\n",
      "\n",
      "[1000 rows x 4 columns]\n"
     ]
    }
   ],
   "source": [
    "empty = data.isnull()\n",
    "print(empty)"
   ]
  },
  {
   "cell_type": "code",
   "execution_count": 28,
   "id": "8975c545-4456-42d1-a994-b192b216e289",
   "metadata": {},
   "outputs": [
    {
     "name": "stdout",
     "output_type": "stream",
     "text": [
      "precipitation    4\n",
      "temp_max         4\n",
      "temp_min         3\n",
      "wind             3\n",
      "dtype: int64\n"
     ]
    }
   ],
   "source": [
    "empty_cells = data.isnull().sum()\n",
    "print(empty_cells)"
   ]
  },
  {
   "cell_type": "code",
   "execution_count": 29,
   "id": "1038b435-e262-4603-97e4-5a912f626758",
   "metadata": {},
   "outputs": [
    {
     "data": {
      "text/html": [
       "<div>\n",
       "<style scoped>\n",
       "    .dataframe tbody tr th:only-of-type {\n",
       "        vertical-align: middle;\n",
       "    }\n",
       "\n",
       "    .dataframe tbody tr th {\n",
       "        vertical-align: top;\n",
       "    }\n",
       "\n",
       "    .dataframe thead th {\n",
       "        text-align: right;\n",
       "    }\n",
       "</style>\n",
       "<table border=\"1\" class=\"dataframe\">\n",
       "  <thead>\n",
       "    <tr style=\"text-align: right;\">\n",
       "      <th></th>\n",
       "      <th>precipitation</th>\n",
       "      <th>temp_max</th>\n",
       "      <th>temp_min</th>\n",
       "      <th>wind</th>\n",
       "    </tr>\n",
       "  </thead>\n",
       "  <tbody>\n",
       "    <tr>\n",
       "      <th>0</th>\n",
       "      <td>2.300000</td>\n",
       "      <td>31.700000</td>\n",
       "      <td>24.900000</td>\n",
       "      <td>13.900000</td>\n",
       "    </tr>\n",
       "    <tr>\n",
       "      <th>1</th>\n",
       "      <td>15.100000</td>\n",
       "      <td>39.400000</td>\n",
       "      <td>20.200000</td>\n",
       "      <td>10.037613</td>\n",
       "    </tr>\n",
       "    <tr>\n",
       "      <th>2</th>\n",
       "      <td>6.600000</td>\n",
       "      <td>30.139859</td>\n",
       "      <td>25.000000</td>\n",
       "      <td>10.100000</td>\n",
       "    </tr>\n",
       "    <tr>\n",
       "      <th>3</th>\n",
       "      <td>5.175602</td>\n",
       "      <td>27.100000</td>\n",
       "      <td>26.100000</td>\n",
       "      <td>7.700000</td>\n",
       "    </tr>\n",
       "    <tr>\n",
       "      <th>4</th>\n",
       "      <td>0.800000</td>\n",
       "      <td>25.500000</td>\n",
       "      <td>24.500000</td>\n",
       "      <td>11.400000</td>\n",
       "    </tr>\n",
       "    <tr>\n",
       "      <th>...</th>\n",
       "      <td>...</td>\n",
       "      <td>...</td>\n",
       "      <td>...</td>\n",
       "      <td>...</td>\n",
       "    </tr>\n",
       "    <tr>\n",
       "      <th>995</th>\n",
       "      <td>29.800000</td>\n",
       "      <td>35.800000</td>\n",
       "      <td>13.200000</td>\n",
       "      <td>12.600000</td>\n",
       "    </tr>\n",
       "    <tr>\n",
       "      <th>996</th>\n",
       "      <td>2.900000</td>\n",
       "      <td>25.800000</td>\n",
       "      <td>19.800000</td>\n",
       "      <td>12.800000</td>\n",
       "    </tr>\n",
       "    <tr>\n",
       "      <th>997</th>\n",
       "      <td>23.200000</td>\n",
       "      <td>30.139859</td>\n",
       "      <td>20.100000</td>\n",
       "      <td>7.900000</td>\n",
       "    </tr>\n",
       "    <tr>\n",
       "      <th>998</th>\n",
       "      <td>5.500000</td>\n",
       "      <td>24.900000</td>\n",
       "      <td>21.707623</td>\n",
       "      <td>12.900000</td>\n",
       "    </tr>\n",
       "    <tr>\n",
       "      <th>999</th>\n",
       "      <td>5.175602</td>\n",
       "      <td>25.900000</td>\n",
       "      <td>24.900000</td>\n",
       "      <td>11.300000</td>\n",
       "    </tr>\n",
       "  </tbody>\n",
       "</table>\n",
       "<p>1000 rows × 4 columns</p>\n",
       "</div>"
      ],
      "text/plain": [
       "     precipitation   temp_max   temp_min       wind\n",
       "0         2.300000  31.700000  24.900000  13.900000\n",
       "1        15.100000  39.400000  20.200000  10.037613\n",
       "2         6.600000  30.139859  25.000000  10.100000\n",
       "3         5.175602  27.100000  26.100000   7.700000\n",
       "4         0.800000  25.500000  24.500000  11.400000\n",
       "..             ...        ...        ...        ...\n",
       "995      29.800000  35.800000  13.200000  12.600000\n",
       "996       2.900000  25.800000  19.800000  12.800000\n",
       "997      23.200000  30.139859  20.100000   7.900000\n",
       "998       5.500000  24.900000  21.707623  12.900000\n",
       "999       5.175602  25.900000  24.900000  11.300000\n",
       "\n",
       "[1000 rows x 4 columns]"
      ]
     },
     "execution_count": 29,
     "metadata": {},
     "output_type": "execute_result"
    }
   ],
   "source": [
    "data = data.fillna(data.mean())\n",
    "data"
   ]
  },
  {
   "cell_type": "code",
   "execution_count": 30,
   "id": "ddd93777-08e0-4e4f-a914-827440b6a1e2",
   "metadata": {},
   "outputs": [
    {
     "name": "stdout",
     "output_type": "stream",
     "text": [
      "\n",
      "Class Distribution:\n",
      "temp_label\n",
      "Hot         501\n",
      "Moderate    478\n",
      "Cold         21\n",
      "Name: count, dtype: int64\n"
     ]
    }
   ],
   "source": [
    "def label_temp(temp):\n",
    "    if temp <= 20:\n",
    "        return \"Cold\"\n",
    "    elif temp <= 30:\n",
    "        return \"Moderate\"\n",
    "    else:\n",
    "        return \"Hot\"\n",
    "\n",
    "data[\"temp_label\"] = data[\"temp_max\"].apply(label_temp)\n",
    "\n",
    "print(\"\\nClass Distribution:\")\n",
    "print(data[\"temp_label\"].value_counts())"
   ]
  },
  {
   "cell_type": "code",
   "execution_count": 31,
   "id": "41e6f1d2-4045-4ad0-968e-6a47e47622c3",
   "metadata": {},
   "outputs": [],
   "source": [
    "X = data.drop([\"temp_max\", \"temp_label\"], axis=1)\n",
    "y = data[\"temp_label\"]\n",
    "\n",
    "# Scale features (important for Logistic Regression)\n",
    "scaler = StandardScaler()\n",
    "X_scaled = scaler.fit_transform(X)"
   ]
  },
  {
   "cell_type": "code",
   "execution_count": 32,
   "id": "637793e1-fe31-4c20-8edc-09e19fad15cf",
   "metadata": {},
   "outputs": [],
   "source": [
    "X_train, X_test, y_train, y_test = train_test_split(X_scaled, y, test_size=0.2, random_state=42, stratify=y)"
   ]
  },
  {
   "cell_type": "code",
   "execution_count": 34,
   "id": "20ad448c-abdb-442b-a2cb-fe3a92c5e91f",
   "metadata": {},
   "outputs": [
    {
     "name": "stdout",
     "output_type": "stream",
     "text": [
      "\n",
      "=== Logistic Regression Results ===\n",
      "Accuracy: 0.5\n",
      "Confusion Matrix:\n",
      " [[ 0  0  4]\n",
      " [ 0 57 43]\n",
      " [ 0 53 43]]\n",
      "Classification Report:\n",
      "               precision    recall  f1-score   support\n",
      "\n",
      "        Cold       0.00      0.00      0.00         4\n",
      "         Hot       0.52      0.57      0.54       100\n",
      "    Moderate       0.48      0.45      0.46        96\n",
      "\n",
      "    accuracy                           0.50       200\n",
      "   macro avg       0.33      0.34      0.34       200\n",
      "weighted avg       0.49      0.50      0.49       200\n",
      "\n"
     ]
    },
    {
     "name": "stderr",
     "output_type": "stream",
     "text": [
      "C:\\Users\\jgowr\\anaconda3\\Lib\\site-packages\\sklearn\\metrics\\_classification.py:1731: UndefinedMetricWarning: Precision is ill-defined and being set to 0.0 in labels with no predicted samples. Use `zero_division` parameter to control this behavior.\n",
      "  _warn_prf(average, modifier, f\"{metric.capitalize()} is\", result.shape[0])\n",
      "C:\\Users\\jgowr\\anaconda3\\Lib\\site-packages\\sklearn\\metrics\\_classification.py:1731: UndefinedMetricWarning: Precision is ill-defined and being set to 0.0 in labels with no predicted samples. Use `zero_division` parameter to control this behavior.\n",
      "  _warn_prf(average, modifier, f\"{metric.capitalize()} is\", result.shape[0])\n",
      "C:\\Users\\jgowr\\anaconda3\\Lib\\site-packages\\sklearn\\metrics\\_classification.py:1731: UndefinedMetricWarning: Precision is ill-defined and being set to 0.0 in labels with no predicted samples. Use `zero_division` parameter to control this behavior.\n",
      "  _warn_prf(average, modifier, f\"{metric.capitalize()} is\", result.shape[0])\n"
     ]
    }
   ],
   "source": [
    "# Logistic Regression Classifier\n",
    "log_model = LogisticRegression(max_iter=500)\n",
    "log_model.fit(X_train, y_train)\n",
    "\n",
    "y_pred_log = log_model.predict(X_test)\n",
    "\n",
    "print(\"\\n Logistic Regression Results \")\n",
    "print(\"Accuracy:\", accuracy_score(y_test, y_pred_log))\n",
    "print(\"Confusion Matrix:\\n\", confusion_matrix(y_test, y_pred_log))\n",
    "print(\"Classification Report:\\n\", classification_report(y_test, y_pred_log))"
   ]
  },
  {
   "cell_type": "code",
   "execution_count": 35,
   "id": "6a1bd0eb-a7a9-4110-a8fa-32f058f303ae",
   "metadata": {},
   "outputs": [
    {
     "name": "stdout",
     "output_type": "stream",
     "text": [
      "\n",
      "=== Random Forest Classification Results ===\n",
      "Accuracy: 0.55\n",
      "Confusion Matrix:\n",
      " [[ 0  2  2]\n",
      " [ 0 62 38]\n",
      " [ 0 48 48]]\n",
      "Classification Report:\n",
      "               precision    recall  f1-score   support\n",
      "\n",
      "        Cold       0.00      0.00      0.00         4\n",
      "         Hot       0.55      0.62      0.58       100\n",
      "    Moderate       0.55      0.50      0.52        96\n",
      "\n",
      "    accuracy                           0.55       200\n",
      "   macro avg       0.37      0.37      0.37       200\n",
      "weighted avg       0.54      0.55      0.54       200\n",
      "\n"
     ]
    },
    {
     "name": "stderr",
     "output_type": "stream",
     "text": [
      "C:\\Users\\jgowr\\anaconda3\\Lib\\site-packages\\sklearn\\metrics\\_classification.py:1731: UndefinedMetricWarning: Precision is ill-defined and being set to 0.0 in labels with no predicted samples. Use `zero_division` parameter to control this behavior.\n",
      "  _warn_prf(average, modifier, f\"{metric.capitalize()} is\", result.shape[0])\n",
      "C:\\Users\\jgowr\\anaconda3\\Lib\\site-packages\\sklearn\\metrics\\_classification.py:1731: UndefinedMetricWarning: Precision is ill-defined and being set to 0.0 in labels with no predicted samples. Use `zero_division` parameter to control this behavior.\n",
      "  _warn_prf(average, modifier, f\"{metric.capitalize()} is\", result.shape[0])\n",
      "C:\\Users\\jgowr\\anaconda3\\Lib\\site-packages\\sklearn\\metrics\\_classification.py:1731: UndefinedMetricWarning: Precision is ill-defined and being set to 0.0 in labels with no predicted samples. Use `zero_division` parameter to control this behavior.\n",
      "  _warn_prf(average, modifier, f\"{metric.capitalize()} is\", result.shape[0])\n"
     ]
    }
   ],
   "source": [
    "# Random Forest Classifier\n",
    "rf_model = RandomForestClassifier(n_estimators=200, random_state=42)\n",
    "rf_model.fit(X_train, y_train)\n",
    "\n",
    "y_pred_rf = rf_model.predict(X_test)\n",
    "\n",
    "print(\"\\n=== Random Forest Classification Results ===\")\n",
    "print(\"Accuracy:\", accuracy_score(y_test, y_pred_rf))\n",
    "print(\"Confusion Matrix:\\n\", confusion_matrix(y_test, y_pred_rf))\n",
    "print(\"Classification Report:\\n\", classification_report(y_test, y_pred_rf))"
   ]
  },
  {
   "cell_type": "code",
   "execution_count": 36,
   "id": "5b17a4ad-2b1f-4019-a952-76ff57638784",
   "metadata": {},
   "outputs": [
    {
     "data": {
      "image/png": "[encoded data removed]",
      "text/plain": [
       "<Figure size 600x400 with 2 Axes>"
      ]
     },
     "metadata": {},
     "output_type": "display_data"
    }
   ],
   "source": [
    "plt.figure(figsize=(6,4))\n",
    "sns.heatmap(confusion_matrix(y_test, y_pred_rf), annot=True, fmt=\"d\", cmap=\"Blues\",\n",
    "            xticklabels=rf_model.classes_, yticklabels=rf_model.classes_)\n",
    "plt.xlabel(\"Predicted\")\n",
    "plt.ylabel(\"Actual\")\n",
    "plt.title(\"Random Forest Confusion Matrix\")\n",
    "plt.show()"
   ]
  },
  {
   "cell_type": "code",
   "execution_count": null,
   "id": "94800ae5-cfc2-45db-959c-11f1b05c8d69",
   "metadata": {},
   "outputs": [],
   "source": [
    "\n",
    "\n"
   ]
  }
 ],
 "metadata": {
  "kernelspec": {
   "display_name": "Python 3 (ipykernel)",
   "language": "python",
   "name": "python3"
  },
  "language_info": {
   "codemirror_mode": {
    "name": "ipython",
    "version": 3
   },
   "file_extension": ".py",
   "mimetype": "text/x-python",
   "name": "python",
   "nbconvert_exporter": "python",
   "pygments_lexer": "ipython3",
   "version": "3.13.5"
  }
 },
 "nbformat": 4,
 "nbformat_minor": 5
}
